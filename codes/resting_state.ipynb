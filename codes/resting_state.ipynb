{
 "cells": [
  {
   "cell_type": "code",
   "execution_count": null,
   "metadata": {},
   "outputs": [],
   "source": [
    "# Pouya Ghaemmaghami\n",
    "# coding: utf-8\n",
    "\n",
    "# In[89]:\n",
    "\n",
    "\n",
    "# import necessary packages:\n",
    "import pandas as pd\n",
    "import numpy as np\n",
    "import scipy\n",
    "import math\n",
    "import matplotlib.pyplot as plt\n",
    "from mpl_toolkits.axes_grid1 import make_axes_locatable\n",
    "from __future__ import division\n",
    "\n",
    "import numpy as np\n",
    "import matplotlib.pyplot as plt\n",
    "from pandas import datetime\n",
    "import math\n",
    "from sklearn import preprocessing\n",
    "import datetime\n",
    "from sklearn.metrics import mean_squared_error\n",
    "from math import sqrt\n",
    "from keras.models import Sequential\n",
    "from keras.layers.core import Dense, Dropout, Activation\n",
    "from keras.layers.recurrent import LSTM\n",
    "#import pandas_datareader.data as web\n",
    "from scipy import stats\n",
    "import helpers as hp"
   ]
  },
  {
   "cell_type": "code",
   "execution_count": null,
   "metadata": {},
   "outputs": [],
   "source": [
    "# load the fMRI data:\n",
    "subject_label   = 100307\n",
    "day_num         = 1\n",
    "fmri_path       = '/Users/nataliabielczyk/Desktop/variousprojects/Brainhack_networks/BrainhackNetworks_indicators_restingstate-master/datasets/fMRI/'\n",
    "df              = pd.read_csv(fmri_path + '/day' + str(day_num) + '/' + str(subject_label) + '.csv',header=None)\n",
    "data            = df.values\n",
    "Nvars           = data.shape[1]\n",
    "labels_Glasser  = pd.read_csv(fmri_path + 'labels_Glasser.csv',header=None)[0].tolist()\n",
    "df.columns      = labels_Glasser\n",
    "TR              = 0.72 #[s]"
   ]
  },
  {
   "cell_type": "code",
   "execution_count": null,
   "metadata": {},
   "outputs": [],
   "source": [
    "print labels_Glasser"
   ]
  },
  {
   "cell_type": "code",
   "execution_count": null,
   "metadata": {
    "collapsed": true
   },
   "outputs": [],
   "source": [
    "# define the indicators:\n",
    "def moving_average(x,N): \n",
    "    \"\"\" return moving average from last N samples: \"\"\" \n",
    "    SMA = 0\n",
    "    for i in range(N):\n",
    "        SMA = SMA + (1/N)*x[-i-1]\n",
    "    return SMA\n",
    "\n",
    "def exponential_weighted_moving_average(x,N,alpha): \n",
    "    \"\"\" return exponential weighted moving average from last N samples: \"\"\" \n",
    "    EWMA = 0\n",
    "    s = [x[-1]]\n",
    "    for i in range(N):\n",
    "        if i == 0:\n",
    "            s_i = x[-1]\n",
    "        else:\n",
    "            s_i = alpha*x[-i-1] + (1 - alpha)*s[i-1]\n",
    "        EWMA = EWMA + (1/N)*s_i\n",
    "        s.append(s_i)\n",
    "    return EWMA\n",
    "\n",
    "def relative_strength_index(x,N,alpha):\n",
    "    \"\"\" return relative strength index from the last N samples: \"\"\"\n",
    "    ups = np.zeros((N,1))\n",
    "    downs = np.zeros((N,1))\n",
    "    for ind in range(N):\n",
    "        if x[-1-ind] > x[-1-ind-1]:\n",
    "            ups[ind,0] = x[-1-ind] - x[-1-ind-1]\n",
    "        if x[-1-ind] < x[-1-ind-1]:\n",
    "            downs[ind,0] = x[-1-ind-1] - x[-1-ind]\n",
    "    \n",
    "    EWMA_ups = 0\n",
    "    s = [ups[-1]]\n",
    "    for i in range(N):\n",
    "        if i == 0:\n",
    "            s_i = s[-1]\n",
    "        else:\n",
    "            s_i = alpha*ups[-i-1] + (1 - alpha)*s[i-1]\n",
    "        EWMA_ups = EWMA_ups + (1/N)*s_i\n",
    "        s.append(s_i)\n",
    "        \n",
    "    EWMA_downs = 0\n",
    "    s = [downs[-1]]\n",
    "    for i in range(N):\n",
    "        if i == 0:\n",
    "            s_i = downs[-1]\n",
    "        else:\n",
    "            s_i = alpha*downs[-i-1] + (1 - alpha)*s[i-1]\n",
    "        EWMA_downs = EWMA_downs + (1/N)*s_i\n",
    "        s.append(s_i)\n",
    "    \n",
    "    RS = EWMA_ups/EWMA_downs\n",
    "    RSI = 100 - (100/(1 + RS))\n",
    "    return RSI\n",
    "\n",
    "def Bollinger_bands(x,N,alpha,K):\n",
    "    \"\"\" return Bollinger bands: \"\"\" \n",
    "    # SMA = 0\n",
    "    # for i in range(N):\n",
    "    #    SMA = SMA + (1/N)*x[-i-1]\n",
    "    SMA = np.mean(x[-N:-1])   \n",
    "    upper_band = SMA + K*np.std(x[-N:-1])   \n",
    "    lower_band = SMA - K*np.std(x[-N:-1])   \n",
    "    return SMA, upper_band, lower_band"
   ]
  },
  {
   "cell_type": "code",
   "execution_count": null,
   "metadata": {
    "collapsed": true
   },
   "outputs": [],
   "source": [
    "# select one time series:\n",
    "ROI_number = 0\n",
    "x = data[:,ROI_number]\n",
    "ROI_name = labels_Glasser[ROI_number]\n",
    "N = len(x)"
   ]
  },
  {
   "cell_type": "code",
   "execution_count": null,
   "metadata": {
    "collapsed": true
   },
   "outputs": [],
   "source": [
    "# calculate the indicators:\n",
    "# simple moving average:\n",
    "N_SMA = 14\n",
    "SMAvec = np.zeros((N - N_SMA,1))\n",
    "for ind in range(len(SMAvec)):\n",
    "    SMAvec[ind] = moving_average(x[:-1-ind],N_SMA)\n",
    "    \n",
    "# exponential weighted moving average:    \n",
    "N_EWMA = 14\n",
    "alpha = 0.2\n",
    "EWMAvec = np.zeros((N - N_EWMA,1))\n",
    "for ind in range(len(EWMAvec)):\n",
    "    EWMAvec[ind] = exponential_weighted_moving_average(x[:-1-ind],N_SMA,alpha)\n",
    "\n",
    "# MACD:\n",
    "alpha = 0.2\n",
    "N_EWMA1 = 12\n",
    "EWMAvec1 = np.zeros((N - N_EWMA1,1))\n",
    "for ind in range(len(EWMAvec1)):\n",
    "    EWMAvec1[ind] = exponential_weighted_moving_average(x[:-1-ind],N_EWMA1,alpha)\n",
    "N_EWMA2 = 26\n",
    "EWMAvec2 = np.zeros((N - N_EWMA2,1))\n",
    "for ind in range(len(EWMAvec2)):\n",
    "    EWMAvec2[ind] = exponential_weighted_moving_average(x[:-1-ind],N_EWMA2,alpha)\n",
    "    \n",
    "# RSI:\n",
    "alpha = 0.2\n",
    "N_RSI = 14\n",
    "RSIvec = np.zeros((N - N_RSI - 1,1))\n",
    "for ind in range(len(RSIvec)):\n",
    "    RSIvec[ind] = relative_strength_index(x[:-1-ind],N_RSI,alpha)\n",
    "    \n",
    "# Bollinger bands:\n",
    "K = 1.0\n",
    "alpha = 0.2\n",
    "N_BOLL = 14\n",
    "BOLLvec_ma = np.zeros((N - N_BOLL,1))\n",
    "BOLLvec_upper = np.zeros((N - N_BOLL,1))\n",
    "BOLLvec_lower = np.zeros((N - N_BOLL,1))\n",
    "for ind in range(len(BOLLvec_ma)):\n",
    "    Boll = Bollinger_bands(x[:-1-ind],N_BOLL,alpha,K)\n",
    "    BOLLvec_ma[ind] = Boll[0]\n",
    "    BOLLvec_upper[ind] = Boll[1]\n",
    "    BOLLvec_lower[ind] = Boll[2]"
   ]
  },
  {
   "cell_type": "code",
   "execution_count": null,
   "metadata": {},
   "outputs": [],
   "source": [
    "# plot simple and exponential moving average:\n",
    "plt.figure(figsize=(20,8))\n",
    "plt.plot(np.arange(N)*TR, x, color='k', label='data')\n",
    "plt.plot(np.arange(N)[N_SMA:]*TR, SMAvec, color='r', label='SMA')\n",
    "plt.plot(np.arange(N)[N_EWMA:]*TR, EWMAvec, color='g', label='EWMA')\n",
    "plt.legend()\n",
    "plt.xlabel('time')\n",
    "plt.ylabel('BOLD response')\n",
    "plt.xlim([0, N*TR*0.25]) #zoom inot first 25% of the chart\n",
    "plt.title(ROI_name)\n",
    "plt.show()\n",
    "\n",
    "# plot MACD:\n",
    "plt.figure(figsize=(20,8))\n",
    "plt.plot(np.arange(N)*TR, x, color='k', label='data')\n",
    "plt.plot(np.arange(N)[N_EWMA1:]*TR, EWMAvec1, color='r', label='fast EWMA')\n",
    "plt.plot(np.arange(N)[N_EWMA2:]*TR, EWMAvec2, color='g', label='slow EWMA')\n",
    "plt.legend()\n",
    "plt.xlabel('time')\n",
    "plt.ylabel('BOLD response')\n",
    "plt.xlim([0, N*TR*0.25]) #zoom inot first 25% of the chart\n",
    "plt.title(ROI_name)\n",
    "plt.show()\n",
    "\n",
    "# plot RSI:\n",
    "plt.figure(figsize=(20,8))\n",
    "#plt.plot(np.arange(N)*TR, x, color='k', label='data')\n",
    "plt.plot(np.arange(N)[N_RSI+1:]*TR, RSIvec, color='r', label='RSI')\n",
    "plt.legend()\n",
    "plt.xlabel('time')\n",
    "plt.ylabel('BOLD response')\n",
    "plt.xlim([0, N*TR*0.25]) #zoom inot first 25% of the chart\n",
    "plt.title(ROI_name)\n",
    "plt.show()\n",
    "\n",
    "# plot Bollinger bands:\n",
    "plt.figure(figsize=(20,8))\n",
    "plt.plot(np.arange(N)*TR, x, color='k', label='data')\n",
    "plt.plot(np.arange(N)[N_BOLL:]*TR, BOLLvec_ma, color='r', label='MA')\n",
    "plt.plot(np.arange(N)[N_BOLL:]*TR, BOLLvec_upper, color='g', label='upper band')\n",
    "plt.plot(np.arange(N)[N_BOLL:]*TR, BOLLvec_lower, color='b', label='lower band')\n",
    "plt.legend()\n",
    "plt.xlabel('time')\n",
    "plt.ylabel('BOLD response')\n",
    "plt.xlim([0, N*TR*0.25]) #zoom inot first 25% of the chart\n",
    "plt.title(ROI_name)\n",
    "plt.show()"
   ]
  },
  {
   "cell_type": "code",
   "execution_count": null,
   "metadata": {},
   "outputs": [],
   "source": [
    "# In[Data Preperation]\n",
    "# fill in the 4 parameters:\n",
    "seq_len             = 22 # the number of past values to predict the future value\n",
    "future_seq_len      = 10 # the number of future values to predict\n",
    "predictor_variables = ['V1','V2'] # choose predictor variables\n",
    "name_target         = 'V2' # choose which variable you want to predict\n",
    "\n",
    "sequence_length     = seq_len + future_seq_len \n",
    "index_target        = predictor_variables.index(name_target)\n",
    "data                = df.loc[:,predictor_variables].as_matrix() \n",
    "nb_features         = data.shape[1]\n",
    "\n",
    "# chop data into segments:\n",
    "result = []\n",
    "for index in range(len(data) - sequence_length): # maxmimum date = lastest date - sequence length\n",
    "    result.append(data[index: index + sequence_length]) # index : index + 22days\n",
    "result = np.array(result)\n",
    "\n",
    "# remove the midline (switching from LR to RL encoding):\n",
    "mid = int(result.shape[0]/2)\n",
    "result = np.delete(result, range(mid-seq_len, mid+seq_len), axis=0)\n",
    "\n",
    "# split adta into training and testing set:\n",
    "row = round(0.9 * result.shape[0]) \n",
    "X_train = result[:int(row),:-future_seq_len,:] \n",
    "y_train = result[:int(row),-future_seq_len:,index_target]  # index_target was =-1 before\n",
    "\n",
    "X_test = result[int(row):,:-future_seq_len,:]\n",
    "y_test = result[int(row):,-future_seq_len:,index_target] "
   ]
  },
  {
   "cell_type": "code",
   "execution_count": null,
   "metadata": {},
   "outputs": [],
   "source": [
    "# compute autocorrelations in the target node, in order to establish the baseline for prediction:\n",
    "nsteps_max = future_seq_len # maximum number of steps ahead to make a prediction\n",
    "def autocorr(x, t=1):\n",
    "    a = np.corrcoef(np.array([x[0:len(x)-t], x[t:len(x)]]))\n",
    "    return a\n",
    "data_target = df.loc[:,name_target].as_matrix()\n",
    "\n",
    "# shorten data_target to first half of the data in order to avoid the switching from LR to RL encoding problem:\n",
    "data_target = data_target[:int(round(len(data_target)/2))]\n",
    "\n",
    "baselines = np.zeros((nsteps_max,1))\n",
    "for ind in range(nsteps_max):\n",
    "    baselines[ind,0] = autocorr(data_target, t=ind+1)[0,1]"
   ]
  },
  {
   "cell_type": "code",
   "execution_count": null,
   "metadata": {},
   "outputs": [],
   "source": [
    "print result.shape"
   ]
  },
  {
   "cell_type": "code",
   "execution_count": null,
   "metadata": {},
   "outputs": [],
   "source": [
    "print y_test.shape"
   ]
  },
  {
   "cell_type": "code",
   "execution_count": null,
   "metadata": {},
   "outputs": [],
   "source": [
    "print X_test.shape\n",
    "print X_train.shape"
   ]
  },
  {
   "cell_type": "code",
   "execution_count": null,
   "metadata": {},
   "outputs": [],
   "source": [
    "# In[Model Building]\n",
    "d = 0.2\n",
    "shape = [nb_features, seq_len, 1] # feature, window, output\n",
    "neurons = [128, 128, 32, future_seq_len]\n",
    "\n",
    "model = []\n",
    "model = Sequential()\n",
    "model.add(LSTM(units=neurons[0], return_sequences=True, input_shape=(X_train.shape[1],X_train.shape[2])))\n",
    "model.add(Dropout(d))\n",
    "model.add(LSTM(neurons[1], return_sequences=False, input_shape=(X_train.shape[1],X_train.shape[2])))\n",
    "model.add(Dropout(d))\n",
    "model.add(Dense(neurons[2],kernel_initializer=\"uniform\",activation='relu'))        \n",
    "model.add(Dense(neurons[3],kernel_initializer=\"uniform\",activation='linear'))\n",
    "#model.add(Activation('linear'))\n",
    "model.compile(loss='mse', optimizer='rmsprop')\n",
    "#model.compile(loss='mse',optimizer='adam', metrics=['accuracy'])\n",
    "model.summary()"
   ]
  },
  {
   "cell_type": "code",
   "execution_count": null,
   "metadata": {},
   "outputs": [],
   "source": [
    "# In[Model Fitting]\n",
    "model.fit(X_train, y_train, batch_size=512, epochs=50, validation_split=0.1, verbose=1)"
   ]
  },
  {
   "cell_type": "code",
   "execution_count": null,
   "metadata": {},
   "outputs": [],
   "source": [
    "# In[Results]\n",
    "trainScore = model.evaluate(X_train, y_train, verbose=0)\n",
    "print('Train Score: %.5f MSE (%.2f RMSE)' % (trainScore, math.sqrt(trainScore)))\n",
    "\n",
    "testScore = model.evaluate(X_test, y_test, verbose=0)\n",
    "print('Test Score: %.5f MSE (%.2f RMSE)' % (testScore, math.sqrt(testScore)))\n",
    "\n",
    "\n",
    "from scipy import stats\n",
    "from scipy.stats.stats import pearsonr\n",
    "\n",
    "prediction = model.predict(X_test)\n",
    "prediction = np.squeeze(prediction)"
   ]
  },
  {
   "cell_type": "code",
   "execution_count": null,
   "metadata": {},
   "outputs": [],
   "source": [
    "# summarize the results from deep learning:\n",
    "if future_seq_len == 1:\n",
    "    results_deeplearning = np.zeros((future_seq_len,1))\n",
    "    for ind in range(future_seq_len):\n",
    "        results_deeplearning[ind,0] = pearsonr(prediction[:],np.squeeze(y_test[:]))[0]\n",
    "    print results_deeplearning\n",
    "else:\n",
    "    results_deeplearning = np.zeros((future_seq_len,1))\n",
    "    for ind in range(future_seq_len):\n",
    "        results_deeplearning[ind,0] = pearsonr(prediction[:,ind],np.squeeze(y_test[:,ind]))[0]\n",
    "    print results_deeplearning"
   ]
  },
  {
   "cell_type": "code",
   "execution_count": null,
   "metadata": {},
   "outputs": [],
   "source": [
    "# compare with baseline:\n",
    "print baselines"
   ]
  },
  {
   "cell_type": "code",
   "execution_count": null,
   "metadata": {},
   "outputs": [],
   "source": [
    "# plot the results:\n",
    "fig = plt.figure()\n",
    "\n",
    "ax = plt.gca()\n",
    "ax.set_facecolor((1,1,235/255))\n",
    "\n",
    "x = np.arange(future_seq_len)\n",
    "labels = np.ndarray.tolist(x + 1)\n",
    "plt.xticks(x, labels)\n",
    "plt.plot(x, results_deeplearning[:,0], 'g', label = 'LSTM')\n",
    "plt.plot(x, baselines[:,0], 'r', label = 'autocorrelation')\n",
    "plt.xlim([0,future_seq_len - 1])\n",
    "plt.ylim([0,1])\n",
    "plt.xlabel('number of samples ahead')\n",
    "plt.ylabel('prediction accuracy')\n",
    "\n",
    "plt.title('machine learning VS autocorrelation function, ' + '\\n' + name_target  + \\\n",
    "          ' time series predicted from ' + str(seq_len) + ' previous values in ' + str(predictor_variables), y=1.05)\n",
    "plt.legend()\n",
    "plt.show()"
   ]
  },
  {
   "cell_type": "code",
   "execution_count": null,
   "metadata": {},
   "outputs": [],
   "source": [
    "# save the plot:\n",
    "filename = 'MLvsAUTOCORR_target' + name_target + '_predictors' + str(predictor_variables) + \\\n",
    "'_subject' + str(subject_label) + '_day' + str(day_num)\n",
    "\n",
    "\n",
    "folder_output = '/Users/nataliabielczyk/Desktop/variousprojects/Brainhack_networks/BrainhackNetworks_indicators_restingstate-master/results/'\n",
    "fname = folder_output + filename\n",
    "\n",
    "dpis = [300, 600]\n",
    "formats = ['jpg', 'png', 'pdf']\n",
    "\n",
    "hp.savef(fig, fname, dpis, formats)"
   ]
  },
  {
   "cell_type": "code",
   "execution_count": null,
   "metadata": {
    "collapsed": true
   },
   "outputs": [],
   "source": [
    "# run autoregressive model:"
   ]
  },
  {
   "cell_type": "code",
   "execution_count": null,
   "metadata": {},
   "outputs": [],
   "source": [
    "from pandas import Series\n",
    "from matplotlib import pyplot\n",
    "\n",
    "import statsmodels.api as sm\n",
    "from statsmodels.tsa.api import VAR, DynamicVAR\n",
    "\n",
    "print data.shape\n",
    "model = VAR(data)\n",
    "results = model.fit(22)\n",
    "results.summary()\n",
    "\n",
    "lag_order = results.k_ar\n",
    "results.forecast(data[-lag_order:], 5)"
   ]
  },
  {
   "cell_type": "code",
   "execution_count": null,
   "metadata": {
    "collapsed": true
   },
   "outputs": [],
   "source": []
  }
 ],
 "metadata": {
  "kernelspec": {
   "display_name": "Python 2",
   "language": "python",
   "name": "python2"
  },
  "language_info": {
   "codemirror_mode": {
    "name": "ipython",
    "version": 2
   },
   "file_extension": ".py",
   "mimetype": "text/x-python",
   "name": "python",
   "nbconvert_exporter": "python",
   "pygments_lexer": "ipython2",
   "version": "2.7.13"
  }
 },
 "nbformat": 4,
 "nbformat_minor": 2
}
